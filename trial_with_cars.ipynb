{
  "nbformat": 4,
  "nbformat_minor": 0,
  "metadata": {
    "colab": {
      "name": "trial with cars",
      "provenance": [],
      "authorship_tag": "ABX9TyOmDtZM3y7eQ5LWOzN/MV7W",
      "include_colab_link": true
    },
    "kernelspec": {
      "name": "python3",
      "display_name": "Python 3"
    }
  },
  "cells": [
    {
      "cell_type": "markdown",
      "metadata": {
        "id": "view-in-github",
        "colab_type": "text"
      },
      "source": [
        "<a href=\"https://colab.research.google.com/github/thelearningcurves/my_blog/blob/master/trial_with_cars.ipynb\" target=\"_parent\"><img src=\"https://colab.research.google.com/assets/colab-badge.svg\" alt=\"Open In Colab\"/></a>"
      ]
    },
    {
      "cell_type": "markdown",
      "metadata": {
        "id": "UYPyQa5ZYMyQ",
        "colab_type": "text"
      },
      "source": [
        "#This Notebook is to demonstrate ONEvsREST CLASSIFIER in sklearn.multiclass module.\n",
        "OvR is a very efficient classifier for multi-class classification. suppose we have 5 different classes in the target column. When we apply OvR to the dataset, in creates 5 binary classifier(these classifers can be SVC, KNN, LOGISTIC REGRESSION .we specify in the parameter part which one to use ).\n",
        "And during the fitting or training part, one type of class is treated different and rest 4 are treated as same. And these goes same for all 5 classifiers, where for each classifier one of the class is it's target and rest are all same.\n",
        " \n",
        " For more on this try this Medium Article [Article](https://towardsdatascience.com/multi-class-classification-one-vs-all-one-vs-one-94daed32a87b)\n",
        "\n",
        "---\n",
        "\n"
      ]
    },
    {
      "cell_type": "code",
      "metadata": {
        "id": "OxFZfI46K9t0",
        "colab_type": "code",
        "colab": {}
      },
      "source": [
        ""
      ],
      "execution_count": null,
      "outputs": []
    },
    {
      "cell_type": "code",
      "metadata": {
        "id": "1lC1xnwaYUqq",
        "colab_type": "code",
        "colab": {}
      },
      "source": [
        ""
      ],
      "execution_count": null,
      "outputs": []
    },
    {
      "cell_type": "code",
      "metadata": {
        "id": "PnXLyP6v1yTl",
        "colab_type": "code",
        "colab": {}
      },
      "source": [
        "import numpy as np\n",
        "import pandas as pd\n",
        "\n",
        "df = pd.read_csv('/content/cars.csv',delimiter=';')\n",
        "df.drop([0],inplace=True)\n",
        "\n",
        " \n",
        " "
      ],
      "execution_count": null,
      "outputs": []
    },
    {
      "cell_type": "code",
      "metadata": {
        "id": "sX4d52Od59AY",
        "colab_type": "code",
        "colab": {}
      },
      "source": [
        "numeric_cols = df.drop(columns=['Origin','Car'])\n",
        "numeric_cols= numeric_cols.apply(pd.to_numeric,errors='ignore')\n",
        "X = numeric_cols.to_numpy()\n",
        "df['Origin'] = df['Origin'].astype('category')\n",
        "df['Origin_category'] = df.Origin.cat.codes\n",
        "target = df['Origin_category']\n",
        "y= target.to_numpy().reshape(-1,1)"
      ],
      "execution_count": 57,
      "outputs": []
    },
    {
      "cell_type": "code",
      "metadata": {
        "id": "Vk5cn23kK912",
        "colab_type": "code",
        "colab": {}
      },
      "source": [
        "from sklearn.model_selection import train_test_split\n",
        "from sklearn.metrics import f1_score, accuracy_score, classification_report\n",
        "from sklearn.multiclass import OneVsRestClassifier\n",
        "from sklearn.svm import SVC\n",
        "\n",
        "classifier = OneVsRestClassifier(SVC(kernel='linear',C=2))\n",
        "X_train,X_test,y_train,y_test = train_test_split(X , y, test_size= 0.2 , stratify = y)\n"
      ],
      "execution_count": 79,
      "outputs": []
    },
    {
      "cell_type": "code",
      "metadata": {
        "id": "6wAcaq0TNs7W",
        "colab_type": "code",
        "colab": {
          "base_uri": "https://localhost:8080/",
          "height": 34
        },
        "outputId": "ca0488fb-0bc0-4861-96d9-6a0bc12e00e9"
      },
      "source": [
        "classifier.fit(X_train,y_train)\n",
        "y_pred = classifier.predict(X_test)\n",
        "\n",
        "\n",
        "accuracy_score(y_test,y_pred)\n",
        " \n",
        "\n"
      ],
      "execution_count": 80,
      "outputs": [
        {
          "output_type": "execute_result",
          "data": {
            "text/plain": [
              "0.9512195121951219"
            ]
          },
          "metadata": {
            "tags": []
          },
          "execution_count": 80
        }
      ]
    }
  ]
}