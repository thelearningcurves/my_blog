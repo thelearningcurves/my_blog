{
  "nbformat": 4,
  "nbformat_minor": 0,
  "metadata": {
    "colab": {
      "name": "Untitled0.ipynb",
      "provenance": [],
      "authorship_tag": "ABX9TyME3lndQ9ALq+7iM79gLKtF",
      "include_colab_link": true
    },
    "kernelspec": {
      "name": "python3",
      "display_name": "Python 3"
    }
  },
  "cells": [
    {
      "cell_type": "markdown",
      "metadata": {
        "id": "view-in-github",
        "colab_type": "text"
      },
      "source": [
        "<a href=\"https://colab.research.google.com/github/thelearningcurves/my_blog/blob/master/2020-10-05-cubic-spline.ipynb\" target=\"_parent\"><img src=\"https://colab.research.google.com/assets/colab-badge.svg\" alt=\"Open In Colab\"/></a>"
      ]
    },
    {
      "cell_type": "markdown",
      "metadata": {
        "id": "BraHBrJK65cE"
      },
      "source": [
        "# INTERPOLATION WITH CUBIC SPLINE : A requirement for amplitude mapping during NMO correction"
      ]
    },
    {
      "cell_type": "markdown",
      "metadata": {
        "id": "LFvausio694s"
      },
      "source": [
        "This Colab is about a simple numerical method that has immense importance in Seismic data processing. The seismic data that we record might seem continous due to the nature how the generated traces appear but on contrary, they are discrete data with a very small sampling interval. \n",
        "\n",
        "And while working out the seismic processing steps, we need to interpolate\n",
        "between these discrete datapoints to get an aggregation of amplitude of a sample on a trace.\n",
        "We can perform it using multiple approaches. We can interpolate in 1d using linear regression with penalty to avoid overfitting and inclusion of noise in the amplitude. Another approach can be using the nearest points and drawing perpendiculars  to the height of adjacent points thus giving a square wave form.\n",
        "![image](https://wiki.seg.org/images/thumb/7/78/Figure2_NEW.png/675px-Figure2_NEW.png)\n",
        "\n",
        "Another approach that requires heavy computation cost but is incredibly accurate is using a polynomial. These are approaches in 1 dimension.\n",
        "\n",
        "But, We record data in 2D or 3D array form in a CMP setup. Since 3D is just an extension of 2D where the parallel arrays are brought in very close to get a dense image of the sub-surface, a 2D approach is equally valid for it.\n",
        "\n",
        "\n",
        "The 2D approach I have recently used to map amplitude from CMP domain to NMO domain is **Cubic Spline** method , the function of which can be found in Scipy.interpolate class of **Scipy** library. Here we can train the interpolator with nearest 4 points of the dependent and indepedent variable(amplitude and time in this case) and we can get an approximation for an amplitude for times that is not present in the samples taken.\n",
        "![image2](https://wiki.seg.org/images/thumb/f/f3/Tle36020179.1_fig1.jpeg/750px-Tle36020179.1_fig1.jpeg)\n",
        "\n",
        "Here is the implementation."
      ]
    },
    {
      "cell_type": "code",
      "metadata": {
        "id": "MaxpJ4rF9yLC"
      },
      "source": [
        "# Here I have a 2d synthetic CMP array of 1200 samples with 14 offsets\n",
        "#the number of rows in the cmp matrix is basically the samples at each offset\n",
        "#LET us take the first trace\n",
        "trace = CMP[:,0]\n",
        "#we have taken a recorded 2 way time of 0.4s\n",
        "# and divided it with the time interval of sampling. this is the time just before the time of which we want to get the amplitude.\n",
        "before = int(np.floor(0.4/dt))\n",
        "#the samples is taking 2 points after the desired time and 2 points before the desired time\n",
        "\n",
        "samples = np.arange(before-1,before+3)\n",
        "#N is the length of the trace\n",
        "\n",
        "N = trace.size\n",
        "Times = dt*samples\n",
        "#Times is the time for all the 4 samples\n",
        "\n",
        "#amp gives the amplitude values at those 4 time points\n",
        "if any(samples<0) or any (samples >=N):\n",
        "  #i.e if samples exceed size of trace then there is no amplitude approximation\n",
        "  amplitude = None\n",
        "else:\n",
        "  amp = trace[samples]\n",
        "\n",
        "  print(amp)\n",
        "  #the interpolator is  instatiation of the Cubic Spline function with Times and amp data\n",
        "  interpolator = CubicSpline(Times,amp)\n",
        "  #after the interpolator is trained with\n",
        "  # our times and amps we give it a sample time to provide an amplitude that is not in the discrete array\n",
        "  amplitude = interpolator(0.4)\n",
        "  print(amplitude)\n"
      ],
      "execution_count": null,
      "outputs": []
    },
    {
      "cell_type": "code",
      "metadata": {
        "id": "0Ql8m4SH63qi"
      },
      "source": [
        "\n",
        "[0.0057906  0.0075699  0.00926951 0.01085384]\n",
        "0.008749207473685662"
      ],
      "execution_count": null,
      "outputs": []
    }
  ]
}